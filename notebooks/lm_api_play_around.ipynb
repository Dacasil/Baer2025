{
 "cells": [
  {
   "cell_type": "code",
   "execution_count": 2,
   "id": "afa22358",
   "metadata": {},
   "outputs": [],
   "source": [
    "import os\n",
    "\n",
    "import requests\n",
    "from dotenv import load_dotenv\n",
    "import json\n",
    "\n",
    "# Lade Umgebungsvariablen aus der .env-Datei\n",
    "load_dotenv()\n",
    "\n",
    "# URL der API-Endpunkte\n",
    "URL = \"https://hackathon-api.mlo.sehlat.io\"\n",
    "start_game_url = f\"{URL}/game/start\"\n",
    "decision_url = f\"{URL}/game/decision\"\n",
    "\n",
    "# Spielername\n",
    "player_name = os.getenv(\"PLAYER_NAME\")\n",
    "api_key = os.getenv(\"API_KEY\")"
   ]
  },
  {
   "cell_type": "code",
   "execution_count": 5,
   "id": "b05a524a",
   "metadata": {},
   "outputs": [
    {
     "name": "stdout",
     "output_type": "stream",
     "text": [
      "Fehler beim Starten des Spiels: 400\n",
      "Response Text: {\"detail\":\"Missing API key.\"}\n",
      "Request Payload: {'player_name': player_name, 'api_key': api_key}\n"
     ]
    }
   ],
   "source": [
    "# Spiel starten\n",
    "start_response = requests.post(start_game_url, json={\n",
    "    \"player_name\": player_name,\n",
    "    \"api_key\": api_key  # Ensure the API key is included in the payload\n",
    "})\n",
    "\n",
    "if start_response.status_code == 200:\n",
    "    start_data = start_response.json()\n",
    "    session_id = start_data[\"session_id\"]\n",
    "    client_id = start_data[\"client_id\"]\n",
    "    print(f\"Spiel erfolgreich gestartet! Session ID: {session_id}\")\n",
    "\n",
    "    # Speichere die Start-Response als .json\n",
    "    with open(\"_start_response.json\", \"w\") as f:\n",
    "        json.dump(start_data, f)\n",
    "\n",
    "    # Entscheidung loggen\n",
    "    decision_response = requests.post(decision_url, json={\n",
    "        \"decision\": \"Accept\",\n",
    "        \"session_id\": session_id,\n",
    "        \"client_id\": client_id\n",
    "    })\n",
    "\n",
    "    if decision_response.status_code == 200:\n",
    "        decision_data = decision_response.json()\n",
    "        print(f\"Spielstatus: {decision_data['status']}\")\n",
    "        print(f\"Punktestand: {decision_data['score']}\")\n",
    "\n",
    "        # Speichere die Decision-Response als .json\n",
    "        with open(\"_decision_response.json\", \"w\") as f:\n",
    "            json.dump(decision_data, f)\n",
    "    else:\n",
    "        print(f\"Fehler beim Loggen der Entscheidung: {decision_response.status_code}\")\n",
    "else:\n",
    "    print(f\"Fehler beim Starten des Spiels: {start_response.status_code}\")\n",
    "    print(f\"Response Text: {start_response.text}\")\n",
    "    print(f\"Request Payload: {{'player_name': player_name, 'api_key': api_key}}\")"
   ]
  },
  {
   "cell_type": "code",
   "execution_count": null,
   "id": "d0ed1c1e",
   "metadata": {},
   "outputs": [],
   "source": []
  }
 ],
 "metadata": {
  "kernelspec": {
   "display_name": ".venv",
   "language": "python",
   "name": "python3"
  },
  "language_info": {
   "codemirror_mode": {
    "name": "ipython",
    "version": 3
   },
   "file_extension": ".py",
   "mimetype": "text/x-python",
   "name": "python",
   "nbconvert_exporter": "python",
   "pygments_lexer": "ipython3",
   "version": "3.12.6"
  }
 },
 "nbformat": 4,
 "nbformat_minor": 5
}
