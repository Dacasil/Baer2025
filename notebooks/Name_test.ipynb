{
 "cells": [
  {
   "cell_type": "code",
   "execution_count": 67,
   "id": "1b87bb0d",
   "metadata": {},
   "outputs": [
    {
     "name": "stdout",
     "output_type": "stream",
     "text": [
      "             Field       Value\n",
      "0  passport_number   GB7720776\n",
      "1      nationality         FIN\n",
      "2          surname    NISKANEN\n",
      "3             name  JOONA ONNI\n",
      "4    date_of_birth    15081964\n",
      "5       issue_date    22112020\n",
      "6  expiration_date    21112030\n",
      "JOONA ONNI\n"
     ]
    }
   ],
   "source": [
    "import pandas as pd\n",
    "\n",
    "# Read the CSV file\n",
    "df = pd.read_csv(\"passport_info.csv\",index_col = None)\n",
    "\n",
    "# \"name\"-Wert auslesen\n",
    "print(df)\n",
    "print(f\"{df.loc[df['Field'] == 'name', 'Value'].values[0]}\")"
   ]
  },
  {
   "cell_type": "code",
   "execution_count": 78,
   "id": "5d190891",
   "metadata": {},
   "outputs": [],
   "source": [
    "def compare_names(profile_panda, pdf_panda, passport_panda):\n",
    "    # Extract last names\n",
    "    profile_last_name = profile_panda.loc[profile_panda['Field'] == 'Last Name', 'Value'].values[0]\n",
    "    pdf_last_name = pdf_panda.loc[pdf_panda['Field'] == 'account_holder_surname', 'Value'].values[0]\n",
    "    passport_last_name = passport_panda.loc[passport_panda['Field'] == 'surname', 'Value'].values[0]\n",
    "\n",
    "    # Extract first names\n",
    "    profile_first_name = profile_panda.loc[profile_panda['Field'] == 'First/ Middle Name (s)', 'Value'].values[0]\n",
    "    pdf_first_name = pdf_panda.loc[pdf_panda['Field'] == 'account_holder_name', 'Value'].values[0]\n",
    "    passport_first_name = passport_panda.loc[passport_panda['Field'] == 'name', 'Value'].values[0]\n",
    "\n",
    "\n",
    "    print(profile_first_name)\n",
    "    # Compare last names\n",
    "    if not (profile_last_name == pdf_last_name == passport_last_name):\n",
    "        return False\n",
    "\n",
    "    # Compare first names\n",
    "    if not (profile_first_name == pdf_first_name == passport_first_name):\n",
    "        return False\n",
    "\n",
    "    return True"
   ]
  },
  {
   "cell_type": "code",
   "execution_count": 79,
   "id": "33cbec8e",
   "metadata": {},
   "outputs": [
    {
     "name": "stdout",
     "output_type": "stream",
     "text": [
      "Adam Alexander\n",
      "Names match: True\n"
     ]
    }
   ],
   "source": [
    "import pandas as pd\n",
    "\n",
    "# Read the CSV file\n",
    "passport_panda = pd.read_csv(\"passport_info_same_name.csv\",index_col = None)\n",
    "pdf_panda = pd.read_csv(\"pdf_prepro.csv\",index_col = None)\n",
    "profile_panda = pd.read_csv(\"profile_preproc_same_name.csv\",index_col = None)\n",
    "\n",
    "\n",
    "\n",
    "#print(f\"{profile_panda.loc[profile_panda['Field'] == 'Last Name', 'Value'].values[0]}\")\n",
    "\n",
    "result = compare_names(profile_panda, pdf_panda, passport_panda)\n",
    "print(\"Names match:\", result)"
   ]
  },
  {
   "cell_type": "code",
   "execution_count": 82,
   "id": "f38a3bac",
   "metadata": {},
   "outputs": [
    {
     "name": "stdout",
     "output_type": "stream",
     "text": [
      "adamalexander\n",
      "adamalexander\n",
      "mullerstrasse\n"
     ]
    }
   ],
   "source": [
    "import unicodedata\n",
    "\n",
    "def normalize_german_special_chars(text):\n",
    "    # Replace German umlauts and other special chars\n",
    "    replacements = {\n",
    "        'ä': 'ae',\n",
    "        'ö': 'oe',\n",
    "        'ü': 'ue',\n",
    "        'ß': 'ss',\n",
    "        'é': 'e',\n",
    "        'è': 'e',\n",
    "        'ê': 'e',\n",
    "        'à': 'a',\n",
    "        'â': 'a',\n",
    "        'ô': 'o',\n",
    "        'û': 'u',\n",
    "        'î': 'i',\n",
    "        'ç': 'c',\n",
    "    }\n",
    "    # Normalize to decompose characters (é → e + ´)\n",
    "    normalized = unicodedata.normalize('NFKD', text.lower())\n",
    "    # Replace special chars\n",
    "    for special, replacement in replacements.items():\n",
    "        normalized = normalized.replace(special, replacement)\n",
    "    # Remove any remaining diacritics (e.g., `´` after decomposition)\n",
    "    cleaned = normalized.encode('ascii', 'ignore').decode('ascii')\n",
    "    # Remove spaces and return\n",
    "    return cleaned.replace(' ', '')\n",
    "\n",
    "# Example usage\n",
    "name1 = \"Adam Alexander\"\n",
    "name2 = \"Ädäm Aléxandér\"\n",
    "name3 = \"Müllerstraße\"\n",
    "\n",
    "print(normalize_german_special_chars(name1))  # Output: adamalexander\n",
    "print(normalize_german_special_chars(name2))  # Output: aedaemalexander\n",
    "print(normalize_german_special_chars(name3))  # Output: muellerstrasse"
   ]
  }
 ],
 "metadata": {
  "kernelspec": {
   "display_name": "base",
   "language": "python",
   "name": "python3"
  },
  "language_info": {
   "codemirror_mode": {
    "name": "ipython",
    "version": 3
   },
   "file_extension": ".py",
   "mimetype": "text/x-python",
   "name": "python",
   "nbconvert_exporter": "python",
   "pygments_lexer": "ipython3",
   "version": "3.10.13"
  }
 },
 "nbformat": 4,
 "nbformat_minor": 5
}
