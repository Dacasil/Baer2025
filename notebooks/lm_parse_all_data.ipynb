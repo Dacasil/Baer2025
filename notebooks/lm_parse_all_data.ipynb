{
 "cells": [
  {
   "cell_type": "code",
   "execution_count": 10,
   "id": "92b6af1c",
   "metadata": {},
   "outputs": [
    {
     "name": "stdout",
     "output_type": "stream",
     "text": [
      "The autoreload extension is already loaded. To reload it, use:\n",
      "  %reload_ext autoreload\n"
     ]
    }
   ],
   "source": [
    "%load_ext autoreload\n",
    "%autoreload 2"
   ]
  },
  {
   "cell_type": "code",
   "execution_count": 11,
   "id": "85f8e722",
   "metadata": {},
   "outputs": [],
   "source": [
    "from tqdm import tqdm\n",
    "import os\n",
    "import sys\n",
    "from pathlib import Path\n",
    "from utils.client import Client\n",
    "\n",
    "BASE_DIR = Path().resolve().parent\n",
    "os.chdir(BASE_DIR)\n",
    "sys.path.append(BASE_DIR / \"src\")"
   ]
  },
  {
   "cell_type": "code",
   "execution_count": 15,
   "id": "1bea009d",
   "metadata": {},
   "outputs": [
    {
     "name": "stdout",
     "output_type": "stream",
     "text": [
      "Total clients: 2964\n",
      "D:\\Desktop\\SwissHacks\\juliusbaer\\data\\external\\Deficient\\client_1000\n"
     ]
    },
    {
     "name": "stderr",
     "output_type": "stream",
     "text": [
      "100%|██████████| 5/5 [00:02<00:00,  1.72it/s]\n"
     ]
    }
   ],
   "source": [
    "all_clients = list(BASE_DIR.rglob(\"data/external/*/client_*\")) # + list(BASE_DIR.rglob(\"data/samples/*client_*\"))\n",
    "\n",
    "print(\"Total clients:\", len(all_clients))\n",
    "print(all_clients[0])\n",
    "\n",
    "for client_folder in tqdm(all_clients[:5]): # Remove limit if needed\n",
    "    client = Client(*Client.load_client(client_folder))\n",
    "    client.parse_samples()"
   ]
  },
  {
   "cell_type": "code",
   "execution_count": null,
   "id": "37502b36",
   "metadata": {},
   "outputs": [],
   "source": []
  }
 ],
 "metadata": {
  "kernelspec": {
   "display_name": ".venv",
   "language": "python",
   "name": "python3"
  },
  "language_info": {
   "codemirror_mode": {
    "name": "ipython",
    "version": 3
   },
   "file_extension": ".py",
   "mimetype": "text/x-python",
   "name": "python",
   "nbconvert_exporter": "python",
   "pygments_lexer": "ipython3",
   "version": "3.12.6"
  }
 },
 "nbformat": 4,
 "nbformat_minor": 5
}
